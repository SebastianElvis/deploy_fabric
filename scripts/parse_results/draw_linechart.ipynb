{
 "cells": [
  {
   "cell_type": "code",
   "execution_count": 7,
   "metadata": {
    "collapsed": true
   },
   "outputs": [],
   "source": [
    "import json\n",
    "import matplotlib.pyplot as plt\n",
    "from scipy.optimize import curve_fit\n",
    "import numpy as np\n",
    "from os import listdir\n",
    "import re"
   ]
  },
  {
   "cell_type": "code",
   "execution_count": 8,
   "metadata": {
    "collapsed": true
   },
   "outputs": [],
   "source": [
    "fig0 = plt.figure(0)"
   ]
  },
  {
   "cell_type": "code",
   "execution_count": 9,
   "metadata": {
    "collapsed": true
   },
   "outputs": [],
   "source": [
    "def cmpkey(x, y):\n",
    "    return int(x)-int(y)\n",
    "\n",
    "def convert_res_to_points(result_obj, param):\n",
    "    point_list = []\n",
    "    for k in sorted(result_obj.keys(), cmp=cmpkey):\n",
    "        param_val = result_obj[k][param]\n",
    "        if param_val is None:\n",
    "            param_val = 0\n",
    "        point_list.append((int(k), param_val))\n",
    "    return point_list\n",
    "\n",
    "def convert_points_to_xy(point_list):\n",
    "    x = []\n",
    "    y = []\n",
    "    for p in point_list:\n",
    "        x.append(p[0])\n",
    "        y.append(p[1])\n",
    "    return x, y\n",
    "    \n",
    "def read_result_files(re_rule, param):\n",
    "    pl_array = []\n",
    "    filenames = listdir('../data')\n",
    "    filename_pattern = re.compile(re_rule)\n",
    "    for filename in filenames:\n",
    "        if filename_pattern.match(filename):\n",
    "            print filename\n",
    "            result_obj = json.load(open('../data/'+filename, 'r'))\n",
    "            pl = convert_res_to_points(result_obj, param)\n",
    "            print pl\n",
    "            pl_array.append(pl)\n",
    "    return pl_array\n",
    "\n",
    "def cal_avg_pl(pl_array):\n",
    "    added_pl_arr = np.array(pl_array[0])\n",
    "    del pl_array[0]\n",
    "    pl_arr_np = np.array(pl_array)\n",
    "    for pl_np in pl_arr_np:\n",
    "        added_pl_arr += pl_np\n",
    "    added_pl_arr /= (len(pl_array)+1)\n",
    "    return added_pl_arr"
   ]
  },
  {
   "cell_type": "code",
   "execution_count": 10,
   "metadata": {},
   "outputs": [
    {
     "name": "stdout",
     "output_type": "stream",
     "text": [
      "results-sleep20-1.json\n",
      "[(100, 4.6), (200, 4), (300, 15.8), (400, 44.2), (500, 717), (600, 1848.5), (700, 4550.9), (800, 5753.4), (900, 0), (1000, 0), (1100, 0)]\n",
      "[[  1.00000000e+02   4.60000000e+00]\n",
      " [  2.00000000e+02   4.00000000e+00]\n",
      " [  3.00000000e+02   1.58000000e+01]\n",
      " [  4.00000000e+02   4.42000000e+01]\n",
      " [  5.00000000e+02   7.17000000e+02]\n",
      " [  6.00000000e+02   1.84850000e+03]\n",
      " [  7.00000000e+02   4.55090000e+03]\n",
      " [  8.00000000e+02   5.75340000e+03]\n",
      " [  9.00000000e+02   0.00000000e+00]\n",
      " [  1.00000000e+03   0.00000000e+00]\n",
      " [  1.10000000e+03   0.00000000e+00]]\n",
      "results-sleep15-2.json\n",
      "[(20, 6.6), (40, 8), (60, 7.8), (80, 7.5), (100, 8.8), (120, 13.1), (140, 20.5), (160, 27.3), (180, 99.9), (200, 371.4), (220, 692), (240, 1105.7), (260, 1440.1), (280, 1576.2), (300, 1708.3), (320, 2031.1), (340, 2691.1), (360, 2380.6), (380, 2705.2), (400, 7168.6), (420, 4825.8), (440, 9401.3), (460, 9148.4), (480, 4541.5), (500, 5608.6), (520, 0)]\n",
      "results-sleep15-8.json\n",
      "[(20, 6.8), (40, 8.3), (60, 7.7), (80, 7.9), (100, 8.8), (120, 15.5), (140, 30.3), (160, 39.1), (180, 71.7), (200, 347.1), (220, 1174.2), (240, 1293.3), (260, 2103.7), (280, 1617.2), (300, 1911.4), (320, 2341.1), (340, 2414.5), (360, 2296.9), (380, 2686.5), (400, 5215.7), (420, 3061.4), (440, 4973.3), (460, 11457.6), (480, 0), (500, 0), (520, 0)]\n",
      "results-sleep15-4.json\n",
      "[(20, 9.7), (40, 36.1), (60, 7.5), (80, 7.7), (100, 9.2), (120, 233.4), (140, 22.1), (160, 37.3), (180, 588.5), (200, 318.2), (220, 743.5), (240, 1293.2), (260, 1346), (280, 1499.9), (300, 1912), (320, 2140.5), (340, 2430.8), (360, 4730.7), (380, 5667.8), (400, 5510.5), (420, 4915.7), (440, 5705.3), (460, 0), (480, 0), (500, 12756.6), (520, 0)]\n",
      "results-sleep15-1.json\n",
      "[(20, 8.6), (40, 7.7), (60, 7.4), (80, 7.5), (100, 7.8), (120, 11.4), (140, 20.3), (160, 28.4), (180, 47.7), (200, 257.8), (220, 760.4), (240, 1128.4), (260, 1332.6), (280, 1559.4), (300, 1736.1), (320, 2427.1), (340, 2650.3), (360, 2298.4), (380, 3315.1), (400, 3157.5), (420, 5259), (440, 6260.4), (460, 0), (480, 11730.4), (500, 0), (520, 0)]\n",
      "results-sleep15-10.json\n",
      "[(20, 6.7), (40, 8.3), (60, 7.4), (80, 7.8), (100, 13.1), (120, 13.6), (140, 21.4), (160, 29.4), (180, 88.9), (200, 426.9), (220, 1088.2), (240, 1186.8), (260, 1435.9), (280, 1757.7), (300, 1909.8), (320, 2459.5), (340, 2411), (360, 3024.9), (380, 2980.3), (400, 0), (420, 6428.9), (440, 0), (460, 0), (480, 10075.3), (500, 5141.7), (520, 0)]\n",
      "results-sleep15-9.json\n",
      "[(20, 6.6), (40, 8.3), (60, 8), (80, 8.3), (100, 9), (120, 15.8), (140, 24.8), (160, 32.1), (180, 144.2), (200, 366.5), (220, 914.8), (240, 1132.4), (260, 1505.5), (280, 1584), (300, 1775.8), (320, 2206.8), (340, 2755.2), (360, 3345.3), (380, 3980.1), (400, 6323.3), (420, 3984.8), (440, 2210.5), (460, 4919), (480, 0), (500, 0), (520, 0)]\n",
      "results-sleep15-7.json\n",
      "[(20, 7.2), (40, 8.5), (60, 8.2), (80, 8.1), (100, 9.9), (120, 18.9), (140, 23.9), (160, 33), (180, 81.9), (200, 421.3), (220, 912.2), (240, 1211.5), (260, 1409.5), (280, 1676.2), (300, 1807.2), (320, 2174.9), (340, 2460.6), (360, 4161.9), (380, 4825.2), (400, 4294.2), (420, 2339.6), (440, 5544.1), (460, 5614.7), (480, 5095.1), (500, 3806.3), (520, 0)]\n",
      "results-sleep15-3.json\n",
      "[(20, 94.7), (40, 5.8), (60, 8), (80, 7.5), (100, 8), (120, 19.3), (140, 21.4), (160, 26.5), (180, 100.1), (200, 414), (220, 817.9), (240, 1111.7), (260, 1410.7), (280, 1478.4), (300, 1764), (320, 2147), (340, 2647.6), (360, 2292.4), (380, 3858.1), (400, 5471.1), (420, 5351.9), (440, 4721), (460, 4378.4), (480, 0), (500, 0), (520, 0)]\n",
      "results-sleep15-5.json\n",
      "[(20, 408.3), (40, 5.9), (60, 8.5), (80, 8.3), (100, 12.2), (120, 18.2), (140, 19.2), (160, 33.7), (180, 129), (200, 364.5), (220, 847.5), (240, 1231.1), (260, 1698.6), (280, 1746.5), (300, 1902.3), (320, 2092.7), (340, 2291.5), (360, 2389.2), (380, 2970.3), (400, 4651.4), (420, 3013.3), (440, 3091.5), (460, 0), (480, 0), (500, 6550.8), (520, 0)]\n",
      "results-sleep15-6.json\n",
      "[(20, 29.3), (40, 8.6), (60, 7.4), (80, 8.1), (100, 8.4), (120, 11.5), (140, 23.6), (160, 32.5), (180, 188.6), (200, 404.5), (220, 804.8), (240, 1170.4), (260, 1485.3), (280, 1846.6), (300, 1903.6), (320, 2109.8), (340, 2306.7), (360, 3189.7), (380, 2967.7), (400, 3007.6), (420, 3837.7), (440, 4957.6), (460, 5451.2), (480, 4812.6), (500, 12437.3), (520, 0)]\n",
      "[[   20.      58.45]\n",
      " [   40.      10.55]\n",
      " [   60.       7.79]\n",
      " [   80.       7.87]\n",
      " [  100.       9.52]\n",
      " [  120.      37.07]\n",
      " [  140.      22.75]\n",
      " [  160.      31.93]\n",
      " [  180.     154.05]\n",
      " [  200.     369.22]\n",
      " [  220.     875.55]\n",
      " [  240.    1186.45]\n",
      " [  260.    1516.79]\n",
      " [  280.    1634.21]\n",
      " [  300.    1833.05]\n",
      " [  320.    2213.05]\n",
      " [  340.    2505.93]\n",
      " [  360.    3011.  ]\n",
      " [  380.    3595.63]\n",
      " [  400.    4479.99]\n",
      " [  420.    4301.81]\n",
      " [  440.    4686.5 ]\n",
      " [  460.    4096.93]\n",
      " [  480.    3625.49]\n",
      " [  500.    4630.13]\n",
      " [  520.       0.  ]]\n"
     ]
    },
    {
     "data": {
      "text/plain": [
       "(0, 8000)"
      ]
     },
     "execution_count": 10,
     "metadata": {},
     "output_type": "execute_result"
    }
   ],
   "source": [
    "pl_array20 = read_result_files('results\\-sleep20\\-\\d+\\.json', 'meanLatencyMs')\n",
    "avg_pl20 = cal_avg_pl(pl_array20)\n",
    "print avg_pl20\n",
    "x20, y20 = convert_points_to_xy(avg_pl20)\n",
    "\n",
    "pl_array15 = read_result_files('results\\-sleep15\\-\\d+\\.json', 'meanLatencyMs')\n",
    "avg_pl15 = cal_avg_pl(pl_array15)\n",
    "print avg_pl15\n",
    "x15, y15 = convert_points_to_xy(avg_pl15)\n",
    "\n",
    "plt.ylabel('Mean Latency')\n",
    "plt.xlim(0, 1200)\n",
    "plt.ylim(0, 8000)"
   ]
  },
  {
   "cell_type": "code",
   "execution_count": 11,
   "metadata": {},
   "outputs": [
    {
     "data": {
      "text/plain": [
       "[<matplotlib.lines.Line2D at 0x7f2c61fc2090>]"
      ]
     },
     "execution_count": 11,
     "metadata": {},
     "output_type": "execute_result"
    }
   ],
   "source": [
    "plt.plot(x20, y20, label=\"HL20s\")\n",
    "plt.plot(x15, y15, label=\"Ripple15s\")"
   ]
  },
  {
   "cell_type": "code",
   "execution_count": 12,
   "metadata": {},
   "outputs": [
    {
     "data": {
      "image/png": "[encoded data removed]",
      "text/plain": [
       "<matplotlib.figure.Figure at 0x7f2c61f8cbd0>"
      ]
     },
     "metadata": {},
     "output_type": "display_data"
    }
   ],
   "source": [
    "plt.legend()\n",
    "plt.show()"
   ]
  }
 ],
 "metadata": {
  "kernelspec": {
   "display_name": "Python 2",
   "language": "python",
   "name": "python2"
  },
  "language_info": {
   "codemirror_mode": {
    "name": "ipython",
    "version": 2
   },
   "file_extension": ".py",
   "mimetype": "text/x-python",
   "name": "python",
   "nbconvert_exporter": "python",
   "pygments_lexer": "ipython2",
   "version": "2.7.12"
  }
 },
 "nbformat": 4,
 "nbformat_minor": 2
}
