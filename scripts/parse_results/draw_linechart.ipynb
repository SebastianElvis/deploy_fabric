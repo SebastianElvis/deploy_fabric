{
 "cells": [
  {
   "cell_type": "code",
   "execution_count": 47,
   "metadata": {
    "collapsed": true
   },
   "outputs": [],
   "source": [
    "import json\n",
    "import matplotlib.pyplot as plt\n",
    "from scipy.optimize import curve_fit\n",
    "import numpy as np\n",
    "from os import listdir\n",
    "import re"
   ]
  },
  {
   "cell_type": "code",
   "execution_count": 48,
   "metadata": {
    "collapsed": true
   },
   "outputs": [],
   "source": [
    "fig0 = plt.figure(0)"
   ]
  },
  {
   "cell_type": "code",
   "execution_count": 49,
   "metadata": {},
   "outputs": [],
   "source": [
    "def cmpkey(x, y):\n",
    "    return int(x)-int(y)\n",
    "\n",
    "def convert_res_to_points(result_obj, param):\n",
    "    point_list = []\n",
    "    for k in sorted(result_obj.keys(), cmp=cmpkey):\n",
    "        param_val = result_obj[k][param]\n",
    "        if param_val is None:\n",
    "            param_val = 0\n",
    "        point_list.append((int(k), param_val))\n",
    "    return point_list\n",
    "\n",
    "def convert_points_to_xy(point_list):\n",
    "    x = []\n",
    "    y = []\n",
    "    for p in point_list:\n",
    "        x.append(p[0])\n",
    "        y.append(p[1])\n",
    "    return x, y\n",
    "    \n",
    "def read_result_files(re_rule, param):\n",
    "    pl_array = []\n",
    "    filenames = listdir('../data')\n",
    "    filename_pattern = re.compile(re_rule)\n",
    "    for filename in filenames:\n",
    "        if filename_pattern.match(filename):\n",
    "            print filename\n",
    "            result_obj = json.load(open('../data/'+filename, 'r'))\n",
    "            pl = convert_res_to_points(result_obj, param)\n",
    "            print pl\n",
    "            pl_array.append(pl)\n",
    "    return pl_array\n",
    "\n",
    "def cal_avg_pl(pl_array):\n",
    "    added_pl_arr = np.array(pl_array[0])\n",
    "    del pl_array[0]\n",
    "    pl_arr_np = np.array(pl_array)\n",
    "    for pl_np in pl_arr_np:\n",
    "        added_pl_arr += pl_np\n",
    "    added_pl_arr /= (len(pl_array)+1)\n",
    "    return added_pl_arr"
   ]
  },
  {
   "cell_type": "code",
   "execution_count": 63,
   "metadata": {},
   "outputs": [
    {
     "name": "stdout",
     "output_type": "stream",
     "text": [
      "results-sleep10-6.json\n",
      "[(20, 6.7), (40, 7.6), (60, 7.7), (80, 9), (100, 8.9), (120, 12.9), (140, 17.7), (160, 34.5), (180, 240.8), (200, 318.8), (220, 700.5), (240, 1052.5), (260, 1498.8), (280, 1629.1), (300, 2444.4), (320, 5205.2), (340, 2601.2), (360, 2297.6), (380, 4416.6), (400, 3228.8), (420, 4055.9), (440, 5317.3), (460, 9134.6), (480, 4412.6), (500, 0), (520, 0)]\n",
      "results-sleep10-1.json\n",
      "[(20, 10.6), (40, 100.4), (60, 7.7), (80, 8), (100, 10.3), (120, 13.3), (140, 21.6), (160, 187.2), (180, 100), (200, 319), (220, 690.1), (240, 997.2), (260, 1483), (280, 1561.8), (300, 1757.6), (320, 2558.2), (340, 2102.9), (360, 3612.2), (380, 2742.1), (400, 4122.6), (420, 6196.8), (440, 8986), (460, 5045.9), (480, 5926.8), (500, 0), (520, 0)]\n",
      "results-sleep10-10.json\n",
      "[(20, 8.5), (40, 5.8), (60, 8.2), (80, 8.5), (100, 8), (120, 12.2), (140, 24.1), (160, 43.4), (180, 98.9), (200, 407.6), (220, 918), (240, 1115.8), (260, 1661.3), (280, 1896.7), (300, 1925.1), (320, 2176.3), (340, 2755.7), (360, 2622.1), (380, 3709.4), (400, 7849.3), (420, 7864), (440, 2551), (460, 0), (480, 6707.1), (500, 6841), (520, 0)]\n",
      "results-sleep10-4.json\n",
      "[(20, 70.7), (40, 5.8), (60, 7.3), (80, 17.3), (100, 8.3), (120, 9.7), (140, 22), (160, 29.9), (180, 79), (200, 505.7), (220, 760), (240, 1123.4), (260, 1495.5), (280, 1813), (300, 2045.3), (320, 2279.4), (340, 3038.1), (360, 2599), (380, 4847.8), (400, 6847.4), (420, 8323), (440, 0), (460, 0), (480, 4913.3), (500, 0), (520, 0)]\n",
      "results-sleep10-9.json\n",
      "[(20, 1588), (40, 7.7), (60, 10), (80, 19.9), (100, 7.9), (120, 263.8), (140, 419.1), (160, 78.4), (180, 3198.1), (200, 948.1), (220, 4797.4), (240, 5282), (260, 3562.5), (280, 1779.8), (300, 229.2), (320, 4948.8), (340, 5340), (360, 4585.7), (380, 0), (400, 0), (420, 5452.7), (440, 2461.8), (460, 7218.6), (480, 3767), (500, 6216.2), (520, 4251.1)]\n",
      "results-sleep10-2.json\n",
      "[(20, 6.5), (40, 8.2), (60, 8.3), (80, 8.1), (100, 8.6), (120, 11.9), (140, 24.1), (160, 35.9), (180, 75.1), (200, 336.9), (220, 900.7), (240, 1216.8), (260, 1502.5), (280, 1719.1), (300, 2062.3), (320, 2059.9), (340, 2408.1), (360, 2524.3), (380, 3313.6), (400, 4993.4), (420, 6885.8), (440, 5384.2), (460, 4718.7), (480, 6000.3), (500, 0), (520, 0)]\n",
      "results-sleep10-3.json\n",
      "[(20, 7.9), (40, 10.2), (60, 101.2), (80, 101.3), (100, 9), (120, 9.9), (140, 17.6), (160, 38.4), (180, 107.9), (200, 222), (220, 735.7), (240, 1026.5), (260, 1273.1), (280, 1731.1), (300, 1740.7), (320, 1965.2), (340, 2245.3), (360, 2438), (380, 2669.7), (400, 4064.8), (420, 8045.3), (440, 7684.4), (460, 6190.4), (480, 5463.9), (500, 5093.6), (520, 0)]\n",
      "results-sleep10-7.json\n",
      "[(20, 7.1), (40, 6.1), (60, 10.8), (80, 9.8), (100, 9.4), (120, 14.3), (140, 16.9), (160, 32.9), (180, 146.2), (200, 315.8), (220, 741.2), (240, 1184.4), (260, 1532.5), (280, 1826.1), (300, 1852.9), (320, 1973.1), (340, 3005.1), (360, 2426.4), (380, 7234.6), (400, 6702.6), (420, 7315.6), (440, 0), (460, 8161.3), (480, 0), (500, 5478.4), (520, 0)]\n",
      "results-sleep10-8.json\n",
      "[(20, 7.9), (40, 11.4), (60, 10.5), (80, 8.2), (100, 9), (120, 11.1), (140, 469.8), (160, 186.5), (180, 132.8), (200, 288.6), (220, 871.4), (240, 1084.8), (260, 1221.3), (280, 1529.3), (300, 1715.4), (320, 2152.5), (340, 2200.2), (360, 2879.7), (380, 2542.3), (400, 3140.7), (420, 6524.9), (440, 4909.7), (460, 0), (480, 0), (500, 0), (520, 0)]\n",
      "results-sleep10-5.json\n",
      "[(20, 705.5), (40, 5.8), (60, 7.1), (80, 12.1), (100, 9), (120, 12.2), (140, 25.6), (160, 40.6), (180, 54.1), (200, 395.7), (220, 832.8), (240, 1120), (260, 1532.4), (280, 1680.5), (300, 1827), (320, 2376.2), (340, 2500.2), (360, 2933), (380, 3351.3), (400, 4934.3), (420, 6844.9), (440, 5732.8), (460, 8320.4), (480, 6719.2), (500, 0), (520, 0)]\n",
      "[[   20.     241.94]\n",
      " [   40.      16.9 ]\n",
      " [   60.      17.88]\n",
      " [   80.      20.22]\n",
      " [  100.       8.84]\n",
      " [  120.      37.13]\n",
      " [  140.     105.85]\n",
      " [  160.      70.77]\n",
      " [  180.     423.29]\n",
      " [  200.     405.82]\n",
      " [  220.    1194.78]\n",
      " [  240.    1520.34]\n",
      " [  260.    1676.29]\n",
      " [  280.    1716.65]\n",
      " [  300.    1759.99]\n",
      " [  320.    2769.48]\n",
      " [  340.    2819.68]\n",
      " [  360.    2891.8 ]\n",
      " [  380.    3482.74]\n",
      " [  400.    4588.39]\n",
      " [  420.    6750.89]\n",
      " [  440.    4302.72]\n",
      " [  460.    4878.99]\n",
      " [  480.    4391.02]\n",
      " [  500.    2362.92]\n",
      " [  520.     425.11]]\n",
      "results-sleep5-6.json\n",
      "[(20, 10.9), (40, 6.2), (60, 14.7), (80, 345.1), (100, 53.7), (120, 11.6), (140, 17.7), (160, 73.2), (180, 64.7), (200, 480.7), (220, 771.4), (240, 1119.8), (260, 1445), (280, 1832.7), (300, 2274.3), (320, 2156.6), (340, 3672.6), (360, 5893.1), (380, 5750), (400, 7286.1), (420, 5552.9), (440, 3228.9), (460, 7397.1), (480, 0), (500, 0), (520, 0)]\n",
      "results-sleep5-1.json\n",
      "[(20, 8.7), (40, 7.9), (60, 7.6), (80, 8.3), (100, 9.8), (120, 13.6), (140, 27.6), (160, 30.5), (180, 198.5), (200, 265.8), (220, 739.6), (240, 1150.7), (260, 1432.2), (280, 1721.8), (300, 2425.6), (320, 2291.1), (340, 2578.3), (360, 3808.1), (380, 4099.5), (400, 3930.4), (420, 4799), (440, 5878), (460, 5355.6), (480, 0), (500, 0), (520, 0)]\n",
      "results-sleep5-8.json\n",
      "[(20, 6.9), (40, 5.8), (60, 7.4), (80, 7.6), (100, 8.4), (120, 9.8), (140, 241.5), (160, 40.1), (180, 78.7), (200, 421), (220, 731.4), (240, 1283.4), (260, 1863.2), (280, 1657.3), (300, 2045.1), (320, 2159.6), (340, 2786.7), (360, 3579.5), (380, 5203.8), (400, 6701.9), (420, 5654.2), (440, 0), (460, 0), (480, 0), (500, 0), (520, 0)]\n",
      "results-sleep5-4.json\n",
      "[(20, 6.4), (40, 6.1), (60, 7.7), (80, 8.4), (100, 8.7), (120, 11.7), (140, 23.2), (160, 31.4), (180, 56), (200, 390.5), (220, 692.9), (240, 1239.5), (260, 1549.1), (280, 1593.3), (300, 1986.2), (320, 2230.9), (340, 2698.3), (360, 3782.9), (380, 4948.6), (400, 5269), (420, 5766.2), (440, 4802.6), (460, 9379.5), (480, 0), (500, 0), (520, 6683.4)]\n",
      "results-sleep5-3.json\n",
      "[(20, 19.9), (40, 9.6), (60, 7.6), (80, 7.9), (100, 48.2), (120, 34.3), (140, 22.9), (160, 47.9), (180, 106.8), (200, 237.5), (220, 809.8), (240, 1483.4), (260, 2547.1), (280, 1585), (300, 1972.3), (320, 2181.1), (340, 3614.2), (360, 5521.3), (380, 0), (400, 0), (420, 9109.4), (440, 0), (460, 4815.3), (480, 0), (500, 0), (520, 11758.6)]\n",
      "results-sleep5-7.json\n",
      "[(20, 7.2), (40, 7.2), (60, 8.1), (80, 11), (100, 8.6), (120, 12.3), (140, 109.6), (160, 716.8), (180, 270.7), (200, 341.8), (220, 756.1), (240, 1233), (260, 1689.8), (280, 1499.7), (300, 1901.1), (320, 2158.3), (340, 3056), (360, 3873.5), (380, 4830.1), (400, 5128.8), (420, 9640.5), (440, 5673.1), (460, 4466.2), (480, 8660.5), (500, 0), (520, 0)]\n",
      "results-sleep5-5.json\n",
      "[(20, 7), (40, 10.6), (60, 8.2), (80, 9.7), (100, 8.8), (120, 16.8), (140, 20.1), (160, 39.8), (180, 80.6), (200, 335.4), (220, 715.6), (240, 1295.8), (260, 1793.7), (280, 1773.4), (300, 1862.6), (320, 2170.9), (340, 3724), (360, 4744.5), (380, 5745.4), (400, 6306.7), (420, 4893.4), (440, 0), (460, 0), (480, 0), (500, 5955.1), (520, 0)]\n",
      "results-sleep5-2.json\n",
      "[(20, 8.3), (40, 82.1), (60, 7.9), (80, 26), (100, 9.7), (120, 18.7), (140, 626.4), (160, 39.3), (180, 76.1), (200, 345.3), (220, 601.6), (240, 1122.2), (260, 1654.3), (280, 2091.3), (300, 2255.3), (320, 3089.1), (340, 3814.5), (360, 7274.2), (380, 0), (400, 0), (420, 3599.5), (440, 5081.8), (460, 5443.3), (480, 0), (500, 8840.4), (520, 0)]\n",
      "[[   20.         9.4125]\n",
      " [   40.        16.9375]\n",
      " [   60.         8.65  ]\n",
      " [   80.        53.    ]\n",
      " [  100.        19.4875]\n",
      " [  120.        16.1   ]\n",
      " [  140.       136.125 ]\n",
      " [  160.       127.375 ]\n",
      " [  180.       116.5125]\n",
      " [  200.       352.25  ]\n",
      " [  220.       727.3   ]\n",
      " [  240.      1240.975 ]\n",
      " [  260.      1746.8   ]\n",
      " [  280.      1719.3125]\n",
      " [  300.      2090.3125]\n",
      " [  320.      2304.7   ]\n",
      " [  340.      3243.075 ]\n",
      " [  360.      4809.6375]\n",
      " [  380.      3822.175 ]\n",
      " [  400.      4327.8625]\n",
      " [  420.      6126.8875]\n",
      " [  440.      3083.05  ]\n",
      " [  460.      4607.125 ]\n",
      " [  480.      1082.5625]\n",
      " [  500.      1849.4375]\n",
      " [  520.      2305.25  ]]\n"
     ]
    },
    {
     "data": {
      "text/plain": [
       "(0, 8000)"
      ]
     },
     "execution_count": 63,
     "metadata": {},
     "output_type": "execute_result"
    }
   ],
   "source": [
    "pl_array10 = read_result_files('results\\-sleep10\\-\\d+\\.json', 'meanLatencyMs')\n",
    "avg_pl10 = cal_avg_pl(pl_array10)\n",
    "print avg_pl10\n",
    "x10, y10 = convert_points_to_xy(avg_pl10)\n",
    "\n",
    "pl_array5 = read_result_files('results\\-sleep5\\-\\d+\\.json', 'meanLatencyMs')\n",
    "avg_pl5 = cal_avg_pl(pl_array5)\n",
    "print avg_pl5\n",
    "x5, y5 = convert_points_to_xy(avg_pl5)\n",
    "\n",
    "plt.ylabel('Mean Latency')\n",
    "plt.xlim(0, 600)\n",
    "plt.ylim(0, 8000)"
   ]
  },
  {
   "cell_type": "code",
   "execution_count": 64,
   "metadata": {},
   "outputs": [
    {
     "data": {
      "text/plain": [
       "[<matplotlib.lines.Line2D at 0x7f8f2e397710>]"
      ]
     },
     "execution_count": 64,
     "metadata": {},
     "output_type": "execute_result"
    }
   ],
   "source": [
    "plt.plot(x10, y10)\n",
    "plt.plot(x5, y5, '-*')"
   ]
  },
  {
   "cell_type": "code",
   "execution_count": 65,
   "metadata": {},
   "outputs": [
    {
     "data": {
      "image/png": "[encoded data removed]",
      "text/plain": [
       "<matplotlib.figure.Figure at 0x7f8f2e5b7c90>"
      ]
     },
     "metadata": {},
     "output_type": "display_data"
    }
   ],
   "source": [
    "plt.show()"
   ]
  },
  {
   "cell_type": "code",
   "execution_count": 53,
   "metadata": {
    "collapsed": true
   },
   "outputs": [],
   "source": [
    "plt.savefig('ripple8_rps_latency.png')"
   ]
  },
  {
   "cell_type": "code",
   "execution_count": 54,
   "metadata": {
    "collapsed": true
   },
   "outputs": [],
   "source": [
    "plt.close(0)"
   ]
  },
  {
   "cell_type": "code",
   "execution_count": 55,
   "metadata": {
    "collapsed": true
   },
   "outputs": [],
   "source": [
    "fig1 = plt.figure(1)"
   ]
  },
  {
   "cell_type": "code",
   "execution_count": 61,
   "metadata": {},
   "outputs": [
    {
     "name": "stdout",
     "output_type": "stream",
     "text": [
      "results-sleep10-6.json\n",
      "[(20, 191), (40, 383), (60, 560), (80, 799), (100, 926), (120, 1090), (140, 1279), (160, 1439), (180, 1655), (200, 1638), (220, 1650), (240, 1565), (260, 1632), (280, 1693), (300, 1399), (320, 975), (340, 1446), (360, 1502), (380, 1169), (400, 1222), (420, 1627), (440, 1434), (460, 2), (480, 1), (500, 0), (520, 0)]\n",
      "results-sleep10-1.json\n",
      "[(20, 192), (40, 383), (60, 578), (80, 775), (100, 923), (120, 1139), (140, 1381), (160, 1271), (180, 1674), (200, 1819), (220, 1593), (240, 1344), (260, 1645), (280, 1769), (300, 1553), (320, 1543), (340, 1255), (360, 1275), (380, 1517), (400, 1259), (420, 301), (440, 80), (460, 901), (480, 1523), (500, 0), (520, 0)]\n",
      "results-sleep10-10.json\n",
      "[(20, 186), (40, 391), (60, 587), (80, 755), (100, 956), (120, 1158), (140, 1347), (160, 1536), (180, 1612), (200, 1633), (220, 1770), (240, 1761), (260, 1503), (280, 1664), (300, 1720), (320, 1532), (340, 1537), (360, 1596), (380, 1368), (400, 556), (420, 304), (440, 768), (460, 0), (480, 20), (500, 1), (520, 0)]\n",
      "results-sleep10-4.json\n",
      "[(20, 193), (40, 387), (60, 588), (80, 766), (100, 982), (120, 1082), (140, 1299), (160, 1576), (180, 1750), (200, 1702), (220, 1667), (240, 1717), (260, 1679), (280, 1699), (300, 1666), (320, 1472), (340, 1397), (360, 1558), (380, 753), (400, 329), (420, 152), (440, 0), (460, 0), (480, 548), (500, 0), (520, 0)]\n",
      "results-sleep10-9.json\n",
      "[(20, 190), (40, 380), (60, 544), (80, 398), (100, 934), (120, 1194), (140, 1227), (160, 1445), (180, 1047), (200, 1495), (220, 757), (240, 778), (260, 1041), (280, 1531), (300, 101), (320, 655), (340, 526), (360, 26), (380, 0), (400, 0), (420, 403), (440, 875), (460, 474), (480, 990), (500, 432), (520, 765)]\n",
      "results-sleep10-2.json\n",
      "[(20, 195), (40, 364), (60, 559), (80, 730), (100, 904), (120, 1175), (140, 1381), (160, 1512), (180, 1759), (200, 1746), (220, 1715), (240, 1583), (260, 1674), (280, 1718), (300, 1637), (320, 1606), (340, 1550), (360, 1511), (380, 1390), (400, 851), (420, 391), (440, 634), (460, 1035), (480, 1191), (500, 0), (520, 0)]\n",
      "results-sleep10-3.json\n",
      "[(20, 182), (40, 386), (60, 588), (80, 758), (100, 964), (120, 1111), (140, 1262), (160, 1533), (180, 1735), (200, 1686), (220, 1573), (240, 1356), (260, 1456), (280, 1577), (300, 1629), (320, 1618), (340, 1565), (360, 1389), (380, 1515), (400, 1005), (420, 289), (440, 47), (460, 689), (480, 1476), (500, 483), (520, 0)]\n",
      "results-sleep10-7.json\n",
      "[(20, 195), (40, 396), (60, 583), (80, 776), (100, 920), (120, 1147), (140, 1267), (160, 1483), (180, 1663), (200, 1732), (220, 1614), (240, 1665), (260, 1626), (280, 1690), (300, 1679), (320, 1605), (340, 1492), (360, 1278), (380, 501), (400, 303), (420, 548), (440, 0), (460, 1), (480, 0), (500, 1884), (520, 0)]\n",
      "results-sleep10-8.json\n",
      "[(20, 181), (40, 370), (60, 558), (80, 743), (100, 918), (120, 1135), (140, 1369), (160, 1487), (180, 1654), (200, 1686), (220, 1669), (240, 1631), (260, 1658), (280, 1656), (300, 1649), (320, 1479), (340, 1501), (360, 1480), (380, 1497), (400, 1266), (420, 401), (440, 72), (460, 0), (480, 0), (500, 0), (520, 0)]\n",
      "results-sleep10-5.json\n",
      "[(20, 189), (40, 372), (60, 552), (80, 795), (100, 941), (120, 1197), (140, 1312), (160, 1435), (180, 1716), (200, 1662), (220, 1624), (240, 1688), (260, 1670), (280, 1719), (300, 1705), (320, 1604), (340, 1534), (360, 1513), (380, 1401), (400, 1103), (420, 418), (440, 342), (460, 138), (480, 1), (500, 0), (520, 0)]\n",
      "[[  20  189]\n",
      " [  40  381]\n",
      " [  60  569]\n",
      " [  80  729]\n",
      " [ 100  936]\n",
      " [ 120 1142]\n",
      " [ 140 1312]\n",
      " [ 160 1471]\n",
      " [ 180 1626]\n",
      " [ 200 1679]\n",
      " [ 220 1563]\n",
      " [ 240 1508]\n",
      " [ 260 1558]\n",
      " [ 280 1671]\n",
      " [ 300 1473]\n",
      " [ 320 1408]\n",
      " [ 340 1380]\n",
      " [ 360 1312]\n",
      " [ 380 1111]\n",
      " [ 400  789]\n",
      " [ 420  483]\n",
      " [ 440  425]\n",
      " [ 460  324]\n",
      " [ 480  575]\n",
      " [ 500  280]\n",
      " [ 520   76]]\n",
      "results-sleep5-6.json\n",
      "[(20, 197), (40, 377), (60, 561), (80, 772), (100, 895), (120, 1161), (140, 1185), (160, 1388), (180, 1586), (200, 1473), (220, 1662), (240, 1648), (260, 1547), (280, 1586), (300, 1569), (320, 1380), (340, 1220), (360, 820), (380, 662), (400, 325), (420, 1069), (440, 1240), (460, 1), (480, 0), (500, 0), (520, 0)]\n",
      "results-sleep5-1.json\n",
      "[(20, 190), (40, 396), (60, 577), (80, 799), (100, 913), (120, 1162), (140, 1254), (160, 1454), (180, 1541), (200, 1819), (220, 1659), (240, 1685), (260, 1710), (280, 1598), (300, 1589), (320, 1574), (340, 1352), (360, 1177), (380, 855), (400, 804), (420, 673), (440, 233), (460, 169), (480, 0), (500, 0), (520, 0)]\n",
      "results-sleep5-8.json\n",
      "[(20, 196), (40, 370), (60, 541), (80, 723), (100, 922), (120, 1147), (140, 1180), (160, 1491), (180, 1688), (200, 1721), (220, 1762), (240, 1625), (260, 1629), (280, 1627), (300, 1657), (320, 1502), (340, 1394), (360, 1139), (380, 913), (400, 446), (420, 482), (440, 0), (460, 0), (480, 0), (500, 0), (520, 0)]\n",
      "results-sleep5-4.json\n",
      "[(20, 200), (40, 391), (60, 571), (80, 738), (100, 965), (120, 1099), (140, 1249), (160, 1529), (180, 1701), (200, 1664), (220, 1803), (240, 1649), (260, 1565), (280, 1672), (300, 1673), (320, 1576), (340, 1499), (360, 1038), (380, 852), (400, 617), (420, 200), (440, 12), (460, 1), (480, 0), (500, 0), (520, 1)]\n",
      "results-sleep5-3.json\n",
      "[(20, 188), (40, 388), (60, 585), (80, 762), (100, 967), (120, 1133), (140, 1309), (160, 1549), (180, 1654), (200, 1539), (220, 1453), (240, 1615), (260, 1372), (280, 1623), (300, 1635), (320, 1493), (340, 1175), (360, 694), (380, 0), (400, 0), (420, 1), (440, 0), (460, 1075), (480, 0), (500, 0), (520, 1)]\n",
      "results-sleep5-7.json\n",
      "[(20, 184), (40, 383), (60, 592), (80, 782), (100, 907), (120, 1147), (140, 1304), (160, 1338), (180, 1624), (200, 1642), (220, 1740), (240, 1710), (260, 1683), (280, 1639), (300, 1565), (320, 1485), (340, 1258), (360, 1110), (380, 904), (400, 1415), (420, 1), (440, 163), (460, 105), (480, 2), (500, 0), (520, 0)]\n",
      "results-sleep5-5.json\n",
      "[(20, 181), (40, 390), (60, 598), (80, 720), (100, 983), (120, 1178), (140, 1392), (160, 1576), (180, 1621), (200, 1765), (220, 1677), (240, 1702), (260, 1610), (280, 1680), (300, 1598), (320, 1521), (340, 1235), (360, 920), (380, 284), (400, 546), (420, 641), (440, 0), (460, 0), (480, 0), (500, 1), (520, 0)]\n",
      "results-sleep5-2.json\n",
      "[(20, 181), (40, 368), (60, 555), (80, 777), (100, 988), (120, 1189), (140, 1126), (160, 1543), (180, 1714), (200, 1798), (220, 1392), (240, 1402), (260, 1603), (280, 1594), (300, 1605), (320, 1283), (340, 1132), (360, 405), (380, 0), (400, 0), (420, 657), (440, 1682), (460, 737), (480, 0), (500, 1), (520, 0)]\n",
      "[[  20  189]\n",
      " [  40  382]\n",
      " [  60  572]\n",
      " [  80  759]\n",
      " [ 100  942]\n",
      " [ 120 1152]\n",
      " [ 140 1249]\n",
      " [ 160 1483]\n",
      " [ 180 1641]\n",
      " [ 200 1677]\n",
      " [ 220 1643]\n",
      " [ 240 1629]\n",
      " [ 260 1589]\n",
      " [ 280 1627]\n",
      " [ 300 1611]\n",
      " [ 320 1476]\n",
      " [ 340 1283]\n",
      " [ 360  912]\n",
      " [ 380  558]\n",
      " [ 400  519]\n",
      " [ 420  465]\n",
      " [ 440  416]\n",
      " [ 460  261]\n",
      " [ 480    0]\n",
      " [ 500    0]\n",
      " [ 520    0]]\n"
     ]
    },
    {
     "data": {
      "text/plain": [
       "[<matplotlib.lines.Line2D at 0x7f8f2e325cd0>]"
      ]
     },
     "execution_count": 61,
     "metadata": {},
     "output_type": "execute_result"
    }
   ],
   "source": [
    "pl_array10 = read_result_files('results\\-sleep10\\-\\d+\\.json', 'totalRequests')\n",
    "avg_pl10 = cal_avg_pl(pl_array10)\n",
    "print avg_pl10\n",
    "x10, y10 = convert_points_to_xy(avg_pl10)\n",
    "\n",
    "pl_array5 = read_result_files('results\\-sleep5\\-\\d+\\.json', 'totalRequests')\n",
    "avg_pl5 = cal_avg_pl(pl_array5)\n",
    "print avg_pl5\n",
    "x5, y5 = convert_points_to_xy(avg_pl5)\n",
    "\n",
    "plt.xlabel('RPS')\n",
    "plt.ylabel('Total successful requests')\n",
    "plt.xlim(0, 600)\n",
    "plt.ylim(0, 7000)\n",
    "\n",
    "plt.plot(x5, y5, '-.')\n",
    "plt.plot(x10, y10, '-')"
   ]
  },
  {
   "cell_type": "code",
   "execution_count": 62,
   "metadata": {},
   "outputs": [
    {
     "data": {
      "image/png": "[encoded data removed]",
      "text/plain": [
       "<matplotlib.figure.Figure at 0x7f8f2e79b710>"
      ]
     },
     "metadata": {},
     "output_type": "display_data"
    }
   ],
   "source": [
    "plt.show()\n",
    "plt.savefig('ripple8_rps_successfulreqs.png')"
   ]
  },
  {
   "cell_type": "code",
   "execution_count": null,
   "metadata": {
    "collapsed": true
   },
   "outputs": [],
   "source": []
  }
 ],
 "metadata": {
  "kernelspec": {
   "display_name": "Python 2",
   "language": "python",
   "name": "python2"
  },
  "language_info": {
   "codemirror_mode": {
    "name": "ipython",
    "version": 2
   },
   "file_extension": ".py",
   "mimetype": "text/x-python",
   "name": "python",
   "nbconvert_exporter": "python",
   "pygments_lexer": "ipython2",
   "version": "2.7.12"
  }
 },
 "nbformat": 4,
 "nbformat_minor": 2
}
