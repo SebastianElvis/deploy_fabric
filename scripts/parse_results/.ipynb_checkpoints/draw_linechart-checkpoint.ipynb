{
 "cells": [
  {
   "cell_type": "code",
   "execution_count": 35,
   "metadata": {
    "collapsed": true
   },
   "outputs": [],
   "source": [
    "import json"
   ]
  },
  {
   "cell_type": "code",
   "execution_count": 36,
   "metadata": {
    "collapsed": true
   },
   "outputs": [],
   "source": [
    "result_obj = json.load(open('../result_ripple_8_5s.json', 'r'))"
   ]
  },
  {
   "cell_type": "code",
   "execution_count": 37,
   "metadata": {},
   "outputs": [
    {
     "name": "stdout",
     "output_type": "stream",
     "text": [
      "{u'60': {u'totalTimeSeconds': 10.000908681, u'rps': 57, u'maxLatencyMs': 50, u'totalRequests': 566, u'errorCodes': {}, u'percentiles': {u'99': 17, u'90': 7, u'95': 10, u'50': 6}, u'totalErrors': 0, u'minLatencyMs': 6, u'meanLatencyMs': 7.4}, u'80': {u'totalTimeSeconds': 10.001347225, u'rps': 75, u'maxLatencyMs': 71, u'totalRequests': 751, u'errorCodes': {}, u'percentiles': {u'99': 34, u'90': 9, u'95': 11, u'50': 6}, u'totalErrors': 0, u'minLatencyMs': 6, u'meanLatencyMs': 7.8}, u'20': {u'totalTimeSeconds': 10.011173042000001, u'rps': 19, u'maxLatencyMs': 60, u'totalRequests': 195, u'errorCodes': {}, u'percentiles': {u'99': 55, u'90': 10, u'95': 13, u'50': 7}, u'totalErrors': 0, u'minLatencyMs': 6, u'meanLatencyMs': 8.5}, u'180': {u'totalTimeSeconds': 10.010366913, u'rps': 166, u'maxLatencyMs': 205, u'totalRequests': 1666, u'errorCodes': {}, u'percentiles': {u'99': 155, u'90': 118, u'95': 131, u'50': 27}, u'totalErrors': 0, u'minLatencyMs': 7, u'meanLatencyMs': 48.2}, u'40': {u'totalTimeSeconds': 10.001529593999999, u'rps': 40, u'maxLatencyMs': 39, u'totalRequests': 399, u'errorCodes': {}, u'percentiles': {u'99': 18, u'90': 8, u'95': 11, u'50': 6}, u'totalErrors': 0, u'minLatencyMs': 6, u'meanLatencyMs': 7.5}, u'320': {u'totalTimeSeconds': 10.004018937000001, u'rps': 163, u'maxLatencyMs': 4008, u'totalRequests': 1627, u'errorCodes': {}, u'percentiles': {u'99': 3983, u'90': 3581, u'95': 3815, u'50': 1715}, u'totalErrors': 0, u'minLatencyMs': 14, u'meanLatencyMs': 1872.8}, u'340': {u'totalTimeSeconds': 10.008185288, u'rps': 159, u'maxLatencyMs': 4797, u'totalRequests': 1587, u'errorCodes': {}, u'percentiles': {u'99': 4790, u'90': 4367, u'95': 4571, u'50': 2340}, u'totalErrors': 0, u'minLatencyMs': 38, u'meanLatencyMs': 2362.2}, u'400': {u'totalTimeSeconds': 10.814490647000001, u'rps': 71, u'maxLatencyMs': 6865, u'totalRequests': 768, u'errorCodes': {}, u'percentiles': {u'99': 6863, u'90': 6831, u'95': 6859, u'50': 6422}, u'totalErrors': 0, u'minLatencyMs': 5285, u'meanLatencyMs': 6186.4}, u'420': {u'totalTimeSeconds': 10.237750256, u'rps': 60, u'maxLatencyMs': 6782, u'totalRequests': 619, u'errorCodes': {u'-1': 525}, u'percentiles': {u'99': 6751, u'90': 6417, u'95': 6421, u'50': 4957}, u'totalErrors': 524, u'minLatencyMs': 4553, u'meanLatencyMs': 5119.6}, u'480': {u'totalTimeSeconds': 16.404640172, u'rps': 0, u'maxLatencyMs': 0, u'totalRequests': 0, u'errorCodes': {u'-1': 1}, u'percentiles': {u'99': False, u'90': False, u'95': False, u'50': False}, u'totalErrors': 0, u'minLatencyMs': 999999, u'meanLatencyMs': None}, u'360': {u'totalTimeSeconds': 10.018126317, u'rps': 156, u'maxLatencyMs': 4939, u'totalRequests': 1565, u'errorCodes': {}, u'percentiles': {u'99': 4912, u'90': 4549, u'95': 4718, u'50': 2687}, u'totalErrors': 0, u'minLatencyMs': 158, u'meanLatencyMs': 2584.5}, u'200': {u'totalTimeSeconds': 10.103964702999999, u'rps': 172, u'maxLatencyMs': 773, u'totalRequests': 1737, u'errorCodes': {}, u'percentiles': {u'99': 759, u'90': 600, u'95': 698, u'50': 141}, u'totalErrors': 0, u'minLatencyMs': 8, u'meanLatencyMs': 286.9}, u'140': {u'totalTimeSeconds': 10.005843802, u'rps': 135, u'maxLatencyMs': 196, u'totalRequests': 1350, u'errorCodes': {}, u'percentiles': {u'99': 164, u'90': 116, u'95': 139, u'50': 9}, u'totalErrors': 0, u'minLatencyMs': 6, u'meanLatencyMs': 33.1}, u'300': {u'totalTimeSeconds': 10.005733303000001, u'rps': 175, u'maxLatencyMs': 3837, u'totalRequests': 1753, u'errorCodes': {}, u'percentiles': {u'99': 3772, u'90': 3441, u'95': 3596, u'50': 1799}, u'totalErrors': 0, u'minLatencyMs': 104, u'meanLatencyMs': 1873.4}, u'440': {u'totalTimeSeconds': 11.110976862, u'rps': 0, u'maxLatencyMs': 0, u'totalRequests': 0, u'errorCodes': {}, u'percentiles': {u'99': False, u'90': False, u'95': False, u'50': False}, u'totalErrors': 0, u'minLatencyMs': 999999, u'meanLatencyMs': None}, u'460': {u'totalTimeSeconds': 10.333048001, u'rps': 0, u'maxLatencyMs': 0, u'totalRequests': 0, u'errorCodes': {u'-1': 1}, u'percentiles': {u'99': False, u'90': False, u'95': False, u'50': False}, u'totalErrors': 0, u'minLatencyMs': 999999, u'meanLatencyMs': None}, u'120': {u'totalTimeSeconds': 10.000227262000001, u'rps': 119, u'maxLatencyMs': 123, u'totalRequests': 1188, u'errorCodes': {}, u'percentiles': {u'99': 91, u'90': 21, u'95': 51, u'50': 6}, u'totalErrors': 0, u'minLatencyMs': 6, u'meanLatencyMs': 12.2}, u'260': {u'totalTimeSeconds': 10.001669032, u'rps': 169, u'maxLatencyMs': 3191, u'totalRequests': 1687, u'errorCodes': {}, u'percentiles': {u'99': 3159, u'90': 2797, u'95': 3040, u'50': 1334}, u'totalErrors': 0, u'minLatencyMs': 9, u'meanLatencyMs': 1485.7}, u'240': {u'totalTimeSeconds': 10.111993431, u'rps': 176, u'maxLatencyMs': 2418, u'totalRequests': 1776, u'errorCodes': {}, u'percentiles': {u'99': 2386, u'90': 2193, u'95': 2289, u'50': 1059}, u'totalErrors': 0, u'minLatencyMs': 124, u'meanLatencyMs': 1158.9}, u'280': {u'totalTimeSeconds': 10.051832336, u'rps': 171, u'maxLatencyMs': 3008, u'totalRequests': 1721, u'errorCodes': {}, u'percentiles': {u'99': 3004, u'90': 2491, u'95': 2653, u'50': 1519}, u'totalErrors': 0, u'minLatencyMs': 18, u'meanLatencyMs': 1484.5}, u'100': {u'totalTimeSeconds': 10.000163994000001, u'rps': 97, u'maxLatencyMs': 63, u'totalRequests': 968, u'errorCodes': {}, u'percentiles': {u'99': 38, u'90': 9, u'95': 17, u'50': 6}, u'totalErrors': 0, u'minLatencyMs': 6, u'meanLatencyMs': 8.1}, u'160': {u'totalTimeSeconds': 10.006352239, u'rps': 154, u'maxLatencyMs': 149, u'totalRequests': 1538, u'errorCodes': {}, u'percentiles': {u'99': 110, u'90': 73, u'95': 93, u'50': 11}, u'totalErrors': 0, u'minLatencyMs': 7, u'meanLatencyMs': 24.7}, u'220': {u'totalTimeSeconds': 10.056339845, u'rps': 177, u'maxLatencyMs': 1732, u'totalRequests': 1780, u'errorCodes': {}, u'percentiles': {u'99': 1677, u'90': 1346, u'95': 1597, u'50': 669}, u'totalErrors': 0, u'minLatencyMs': 10, u'meanLatencyMs': 710.2}, u'380': {u'totalTimeSeconds': 10.940534846, u'rps': 129, u'maxLatencyMs': 4901, u'totalRequests': 1416, u'errorCodes': {}, u'percentiles': {u'99': 4888, u'90': 4601, u'95': 4850, u'50': 2231}, u'totalErrors': 0, u'minLatencyMs': 12, u'meanLatencyMs': 2364.3}, u'520': {u'totalTimeSeconds': 12.468858431000001, u'rps': 0, u'maxLatencyMs': 0, u'totalRequests': 0, u'errorCodes': {}, u'percentiles': {u'99': False, u'90': False, u'95': False, u'50': False}, u'totalErrors': 0, u'minLatencyMs': 999999, u'meanLatencyMs': None}, u'500': {u'totalTimeSeconds': 14.817694026, u'rps': 0, u'maxLatencyMs': 0, u'totalRequests': 0, u'errorCodes': {u'-1': 1}, u'percentiles': {u'99': False, u'90': False, u'95': False, u'50': False}, u'totalErrors': 0, u'minLatencyMs': 999999, u'meanLatencyMs': None}}\n"
     ]
    }
   ],
   "source": [
    "print result_obj"
   ]
  },
  {
   "cell_type": "code",
   "execution_count": 38,
   "metadata": {
    "collapsed": true
   },
   "outputs": [],
   "source": [
    "import matplotlib.pyplot as plt\n",
    "from scipy.optimize import curve_fit\n",
    "import numpy as np"
   ]
  },
  {
   "cell_type": "code",
   "execution_count": 39,
   "metadata": {
    "collapsed": true
   },
   "outputs": [],
   "source": [
    "point_list = []"
   ]
  },
  {
   "cell_type": "code",
   "execution_count": 40,
   "metadata": {},
   "outputs": [
    {
     "data": {
      "text/plain": [
       "[(20, 8.5),\n",
       " (40, 7.5),\n",
       " (60, 7.4),\n",
       " (80, 7.8),\n",
       " (100, 8.1),\n",
       " (120, 12.2),\n",
       " (140, 33.1),\n",
       " (160, 24.7),\n",
       " (180, 48.2),\n",
       " (200, 286.9),\n",
       " (220, 710.2),\n",
       " (240, 1158.9),\n",
       " (260, 1485.7),\n",
       " (280, 1484.5),\n",
       " (300, 1873.4),\n",
       " (320, 1872.8),\n",
       " (340, 2362.2),\n",
       " (360, 2584.5),\n",
       " (380, 2364.3),\n",
       " (400, 6186.4),\n",
       " (420, 5119.6),\n",
       " (440, 0),\n",
       " (460, 0),\n",
       " (480, 0),\n",
       " (500, 0),\n",
       " (520, 0)]"
      ]
     },
     "execution_count": 40,
     "metadata": {},
     "output_type": "execute_result"
    }
   ],
   "source": [
    "def cmpkey(x, y):\n",
    "    return int(x)-int(y)\n",
    "\n",
    "for k in sorted(result_obj.keys(), cmp=cmpkey):\n",
    "    mean_latency_ms = result_obj[k]['meanLatencyMs']\n",
    "    if mean_latency_ms is None:\n",
    "        mean_latency_ms = 0\n",
    "    point_list.append((int(k), mean_latency_ms))\n",
    "    \n",
    "point_list"
   ]
  },
  {
   "cell_type": "code",
   "execution_count": 41,
   "metadata": {},
   "outputs": [
    {
     "data": {
      "text/plain": [
       "(0, 7000)"
      ]
     },
     "execution_count": 41,
     "metadata": {},
     "output_type": "execute_result"
    }
   ],
   "source": [
    "plt.xlabel('Requests per Second')\n",
    "plt.ylabel('Mean Latency')\n",
    "plt.xlim(0, 600)\n",
    "plt.ylim(0, 10000)"
   ]
  },
  {
   "cell_type": "code",
   "execution_count": 42,
   "metadata": {},
   "outputs": [
    {
     "name": "stdout",
     "output_type": "stream",
     "text": [
      "[20, 40, 60, 80, 100, 120, 140, 160, 180, 200, 220, 240, 260, 280, 300, 320, 340, 360, 380, 400, 420, 440, 460, 480, 500, 520] [8.5, 7.5, 7.4, 7.8, 8.1, 12.2, 33.1, 24.7, 48.2, 286.9, 710.2, 1158.9, 1485.7, 1484.5, 1873.4, 1872.8, 2362.2, 2584.5, 2364.3, 6186.4, 5119.6, 0, 0, 0, 0, 0]\n"
     ]
    }
   ],
   "source": [
    "x = []\n",
    "y = []\n",
    "for p in point_list:\n",
    "    x.append(p[0])\n",
    "    y.append(p[1])\n",
    "print x, y"
   ]
  },
  {
   "cell_type": "code",
   "execution_count": 43,
   "metadata": {},
   "outputs": [
    {
     "data": {
      "text/plain": [
       "[<matplotlib.lines.Line2D at 0x7f05584ef6d0>]"
      ]
     },
     "execution_count": 43,
     "metadata": {},
     "output_type": "execute_result"
    }
   ],
   "source": [
    "plt.plot(x, y, '-')"
   ]
  },
  {
   "cell_type": "code",
   "execution_count": 44,
   "metadata": {},
   "outputs": [],
   "source": [
    "#plt.show()"
   ]
  },
  {
   "cell_type": "code",
   "execution_count": 45,
   "metadata": {
    "collapsed": true
   },
   "outputs": [],
   "source": [
    "plt.savefig('ripple8_throughput_5.png')"
   ]
  },
  {
   "cell_type": "code",
   "execution_count": null,
   "metadata": {
    "collapsed": true
   },
   "outputs": [],
   "source": []
  }
 ],
 "metadata": {
  "kernelspec": {
   "display_name": "Python 2",
   "language": "python",
   "name": "python2"
  },
  "language_info": {
   "codemirror_mode": {
    "name": "ipython",
    "version": 2
   },
   "file_extension": ".py",
   "mimetype": "text/x-python",
   "name": "python",
   "nbconvert_exporter": "python",
   "pygments_lexer": "ipython2",
   "version": "2.7.12"
  }
 },
 "nbformat": 4,
 "nbformat_minor": 2
}
